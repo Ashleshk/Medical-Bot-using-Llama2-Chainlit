{
  "nbformat": 4,
  "nbformat_minor": 0,
  "metadata": {
    "colab": {
      "provenance": []
    },
    "kernelspec": {
      "name": "python3",
      "display_name": "Python 3"
    },
    "language_info": {
      "name": "python"
    }
  },
  "cells": [
    {
      "cell_type": "code",
      "source": [
        "!git clone https://github.com/ndn1954/Llama2-Chainlit-Chatbot\n",
        "%cd Llama2-Chainlit-Chatbot\n",
        "!pip install -r requirements.txt"
      ],
      "metadata": {
        "id": "P2KMKpY-9E2c"
      },
      "execution_count": null,
      "outputs": []
    },
    {
      "cell_type": "code",
      "source": [
        "!python ingest.py"
      ],
      "metadata": {
        "id": "A8kWhSGMOz1F"
      },
      "execution_count": null,
      "outputs": []
    },
    {
      "cell_type": "code",
      "source": [
        "from google.colab.output import eval_js\n",
        "print(eval_js(\"google.colab.kernel.proxyPort(8000)\"))"
      ],
      "metadata": {
        "id": "o2ioVlhIkG2k"
      },
      "execution_count": null,
      "outputs": []
    },
    {
      "cell_type": "code",
      "source": [
        "!chainlit run model.py -w"
      ],
      "metadata": {
        "id": "GACEvggMOz8q"
      },
      "execution_count": null,
      "outputs": []
    },
    {
      "cell_type": "code",
      "source": [],
      "metadata": {
        "id": "CwKiOVeMn7Dk"
      },
      "execution_count": null,
      "outputs": []
    }
  ]
}